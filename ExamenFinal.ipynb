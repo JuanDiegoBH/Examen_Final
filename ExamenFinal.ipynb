{
  "nbformat": 4,
  "nbformat_minor": 0,
  "metadata": {
    "colab": {
      "name": "ExamenFinal.ipynb",
      "provenance": [],
      "collapsed_sections": [],
      "include_colab_link": true
    },
    "kernelspec": {
      "name": "python3",
      "display_name": "Python 3"
    },
    "language_info": {
      "name": "python"
    }
  },
  "cells": [
    {
      "cell_type": "markdown",
      "metadata": {
        "id": "view-in-github",
        "colab_type": "text"
      },
      "source": [
        "<a href=\"https://colab.research.google.com/github/JuanDiegoBH/Examen_Final/blob/main/ExamenFinal.ipynb\" target=\"_parent\"><img src=\"https://colab.research.google.com/assets/colab-badge.svg\" alt=\"Open In Colab\"/></a>"
      ]
    },
    {
      "cell_type": "markdown",
      "source": [
        "##Establezca 2 modelos de clasificación para el data Iris\n"
      ],
      "metadata": {
        "id": "UIsk8ZGfjzq_"
      }
    },
    {
      "cell_type": "code",
      "execution_count": 126,
      "metadata": {
        "id": "p9yadJ5YeGfx",
        "colab": {
          "base_uri": "https://localhost:8080/",
          "height": 611
        },
        "outputId": "a98e3eab-23e5-4093-8524-b389b76aa002"
      },
      "outputs": [
        {
          "output_type": "stream",
          "name": "stdout",
          "text": [
            "(150, 4)\n",
            "(150,)\n",
            "****************************************************************************************************\n",
            "(150, 1)\n"
          ]
        },
        {
          "output_type": "display_data",
          "data": {
            "text/html": [
              "<html>\n",
              "<head><meta charset=\"utf-8\" /></head>\n",
              "<body>\n",
              "    <div>            <script src=\"https://cdnjs.cloudflare.com/ajax/libs/mathjax/2.7.5/MathJax.js?config=TeX-AMS-MML_SVG\"></script><script type=\"text/javascript\">if (window.MathJax) {MathJax.Hub.Config({SVG: {font: \"STIX-Web\"}});}</script>                <script type=\"text/javascript\">window.PlotlyConfig = {MathJaxConfig: 'local'};</script>\n",
              "        <script src=\"https://cdn.plot.ly/plotly-2.8.3.min.js\"></script>                <div id=\"9217a874-c2be-4a79-87c3-e0708a26c7c6\" class=\"plotly-graph-div\" style=\"height:525px; width:100%;\"></div>            <script type=\"text/javascript\">                                    window.PLOTLYENV=window.PLOTLYENV || {};                                    if (document.getElementById(\"9217a874-c2be-4a79-87c3-e0708a26c7c6\")) {                    Plotly.newPlot(                        \"9217a874-c2be-4a79-87c3-e0708a26c7c6\",                        [{\"hovertemplate\":\"x=%{x}<br>y=%{y}<br>color=%{marker.color}<extra></extra>\",\"legendgroup\":\"\",\"marker\":{\"color\":[0,0,0,0,0,0,0,0,0,0,0,0,0,0,0,0,0,0,0,0,0,0,0,0,0,0,0,0,0,0,0,0,0,0,0,0,0,0,0,0,0,0,0,0,0,0,0,0,0,0,1,1,1,1,1,1,1,1,1,1,1,1,1,1,1,1,1,1,1,1,1,1,1,1,1,1,1,1,1,1,1,1,1,1,1,1,1,1,1,1,1,1,1,1,1,1,1,1,1,1,2,2,2,2,2,2,2,2,2,2,2,2,2,2,2,2,2,2,2,2,2,2,2,2,2,2,2,2,2,2,2,2,2,2,2,2,2,2,2,2,2,2,2,2,2,2,2,2,2,2],\"coloraxis\":\"coloraxis\",\"symbol\":\"circle\",\"size\":11},\"mode\":\"markers\",\"name\":\"\",\"orientation\":\"v\",\"showlegend\":false,\"x\":[5.1,4.9,4.7,4.6,5.0,5.4,4.6,5.0,4.4,4.9,5.4,4.8,4.8,4.3,5.8,5.7,5.4,5.1,5.7,5.1,5.4,5.1,4.6,5.1,4.8,5.0,5.0,5.2,5.2,4.7,4.8,5.4,5.2,5.5,4.9,5.0,5.5,4.9,4.4,5.1,5.0,4.5,4.4,5.0,5.1,4.8,5.1,4.6,5.3,5.0,7.0,6.4,6.9,5.5,6.5,5.7,6.3,4.9,6.6,5.2,5.0,5.9,6.0,6.1,5.6,6.7,5.6,5.8,6.2,5.6,5.9,6.1,6.3,6.1,6.4,6.6,6.8,6.7,6.0,5.7,5.5,5.5,5.8,6.0,5.4,6.0,6.7,6.3,5.6,5.5,5.5,6.1,5.8,5.0,5.6,5.7,5.7,6.2,5.1,5.7,6.3,5.8,7.1,6.3,6.5,7.6,4.9,7.3,6.7,7.2,6.5,6.4,6.8,5.7,5.8,6.4,6.5,7.7,7.7,6.0,6.9,5.6,7.7,6.3,6.7,7.2,6.2,6.1,6.4,7.2,7.4,7.9,6.4,6.3,6.1,7.7,6.3,6.4,6.0,6.9,6.7,6.9,5.8,6.8,6.7,6.7,6.3,6.5,6.2,5.9],\"xaxis\":\"x\",\"y\":[3.5,3.0,3.2,3.1,3.6,3.9,3.4,3.4,2.9,3.1,3.7,3.4,3.0,3.0,4.0,4.4,3.9,3.5,3.8,3.8,3.4,3.7,3.6,3.3,3.4,3.0,3.4,3.5,3.4,3.2,3.1,3.4,4.1,4.2,3.1,3.2,3.5,3.6,3.0,3.4,3.5,2.3,3.2,3.5,3.8,3.0,3.8,3.2,3.7,3.3,3.2,3.2,3.1,2.3,2.8,2.8,3.3,2.4,2.9,2.7,2.0,3.0,2.2,2.9,2.9,3.1,3.0,2.7,2.2,2.5,3.2,2.8,2.5,2.8,2.9,3.0,2.8,3.0,2.9,2.6,2.4,2.4,2.7,2.7,3.0,3.4,3.1,2.3,3.0,2.5,2.6,3.0,2.6,2.3,2.7,3.0,2.9,2.9,2.5,2.8,3.3,2.7,3.0,2.9,3.0,3.0,2.5,2.9,2.5,3.6,3.2,2.7,3.0,2.5,2.8,3.2,3.0,3.8,2.6,2.2,3.2,2.8,2.8,2.7,3.3,3.2,2.8,3.0,2.8,3.0,2.8,3.8,2.8,2.8,2.6,3.0,3.4,3.1,3.0,3.1,3.1,3.1,2.7,3.2,3.3,3.0,2.5,3.0,3.4,3.0],\"yaxis\":\"y\",\"type\":\"scatter\"}],                        {\"template\":{\"data\":{\"bar\":[{\"error_x\":{\"color\":\"#2a3f5f\"},\"error_y\":{\"color\":\"#2a3f5f\"},\"marker\":{\"line\":{\"color\":\"#E5ECF6\",\"width\":0.5},\"pattern\":{\"fillmode\":\"overlay\",\"size\":10,\"solidity\":0.2}},\"type\":\"bar\"}],\"barpolar\":[{\"marker\":{\"line\":{\"color\":\"#E5ECF6\",\"width\":0.5},\"pattern\":{\"fillmode\":\"overlay\",\"size\":10,\"solidity\":0.2}},\"type\":\"barpolar\"}],\"carpet\":[{\"aaxis\":{\"endlinecolor\":\"#2a3f5f\",\"gridcolor\":\"white\",\"linecolor\":\"white\",\"minorgridcolor\":\"white\",\"startlinecolor\":\"#2a3f5f\"},\"baxis\":{\"endlinecolor\":\"#2a3f5f\",\"gridcolor\":\"white\",\"linecolor\":\"white\",\"minorgridcolor\":\"white\",\"startlinecolor\":\"#2a3f5f\"},\"type\":\"carpet\"}],\"choropleth\":[{\"colorbar\":{\"outlinewidth\":0,\"ticks\":\"\"},\"type\":\"choropleth\"}],\"contour\":[{\"colorbar\":{\"outlinewidth\":0,\"ticks\":\"\"},\"colorscale\":[[0.0,\"#0d0887\"],[0.1111111111111111,\"#46039f\"],[0.2222222222222222,\"#7201a8\"],[0.3333333333333333,\"#9c179e\"],[0.4444444444444444,\"#bd3786\"],[0.5555555555555556,\"#d8576b\"],[0.6666666666666666,\"#ed7953\"],[0.7777777777777778,\"#fb9f3a\"],[0.8888888888888888,\"#fdca26\"],[1.0,\"#f0f921\"]],\"type\":\"contour\"}],\"contourcarpet\":[{\"colorbar\":{\"outlinewidth\":0,\"ticks\":\"\"},\"type\":\"contourcarpet\"}],\"heatmap\":[{\"colorbar\":{\"outlinewidth\":0,\"ticks\":\"\"},\"colorscale\":[[0.0,\"#0d0887\"],[0.1111111111111111,\"#46039f\"],[0.2222222222222222,\"#7201a8\"],[0.3333333333333333,\"#9c179e\"],[0.4444444444444444,\"#bd3786\"],[0.5555555555555556,\"#d8576b\"],[0.6666666666666666,\"#ed7953\"],[0.7777777777777778,\"#fb9f3a\"],[0.8888888888888888,\"#fdca26\"],[1.0,\"#f0f921\"]],\"type\":\"heatmap\"}],\"heatmapgl\":[{\"colorbar\":{\"outlinewidth\":0,\"ticks\":\"\"},\"colorscale\":[[0.0,\"#0d0887\"],[0.1111111111111111,\"#46039f\"],[0.2222222222222222,\"#7201a8\"],[0.3333333333333333,\"#9c179e\"],[0.4444444444444444,\"#bd3786\"],[0.5555555555555556,\"#d8576b\"],[0.6666666666666666,\"#ed7953\"],[0.7777777777777778,\"#fb9f3a\"],[0.8888888888888888,\"#fdca26\"],[1.0,\"#f0f921\"]],\"type\":\"heatmapgl\"}],\"histogram\":[{\"marker\":{\"pattern\":{\"fillmode\":\"overlay\",\"size\":10,\"solidity\":0.2}},\"type\":\"histogram\"}],\"histogram2d\":[{\"colorbar\":{\"outlinewidth\":0,\"ticks\":\"\"},\"colorscale\":[[0.0,\"#0d0887\"],[0.1111111111111111,\"#46039f\"],[0.2222222222222222,\"#7201a8\"],[0.3333333333333333,\"#9c179e\"],[0.4444444444444444,\"#bd3786\"],[0.5555555555555556,\"#d8576b\"],[0.6666666666666666,\"#ed7953\"],[0.7777777777777778,\"#fb9f3a\"],[0.8888888888888888,\"#fdca26\"],[1.0,\"#f0f921\"]],\"type\":\"histogram2d\"}],\"histogram2dcontour\":[{\"colorbar\":{\"outlinewidth\":0,\"ticks\":\"\"},\"colorscale\":[[0.0,\"#0d0887\"],[0.1111111111111111,\"#46039f\"],[0.2222222222222222,\"#7201a8\"],[0.3333333333333333,\"#9c179e\"],[0.4444444444444444,\"#bd3786\"],[0.5555555555555556,\"#d8576b\"],[0.6666666666666666,\"#ed7953\"],[0.7777777777777778,\"#fb9f3a\"],[0.8888888888888888,\"#fdca26\"],[1.0,\"#f0f921\"]],\"type\":\"histogram2dcontour\"}],\"mesh3d\":[{\"colorbar\":{\"outlinewidth\":0,\"ticks\":\"\"},\"type\":\"mesh3d\"}],\"parcoords\":[{\"line\":{\"colorbar\":{\"outlinewidth\":0,\"ticks\":\"\"}},\"type\":\"parcoords\"}],\"pie\":[{\"automargin\":true,\"type\":\"pie\"}],\"scatter\":[{\"marker\":{\"colorbar\":{\"outlinewidth\":0,\"ticks\":\"\"}},\"type\":\"scatter\"}],\"scatter3d\":[{\"line\":{\"colorbar\":{\"outlinewidth\":0,\"ticks\":\"\"}},\"marker\":{\"colorbar\":{\"outlinewidth\":0,\"ticks\":\"\"}},\"type\":\"scatter3d\"}],\"scattercarpet\":[{\"marker\":{\"colorbar\":{\"outlinewidth\":0,\"ticks\":\"\"}},\"type\":\"scattercarpet\"}],\"scattergeo\":[{\"marker\":{\"colorbar\":{\"outlinewidth\":0,\"ticks\":\"\"}},\"type\":\"scattergeo\"}],\"scattergl\":[{\"marker\":{\"colorbar\":{\"outlinewidth\":0,\"ticks\":\"\"}},\"type\":\"scattergl\"}],\"scattermapbox\":[{\"marker\":{\"colorbar\":{\"outlinewidth\":0,\"ticks\":\"\"}},\"type\":\"scattermapbox\"}],\"scatterpolar\":[{\"marker\":{\"colorbar\":{\"outlinewidth\":0,\"ticks\":\"\"}},\"type\":\"scatterpolar\"}],\"scatterpolargl\":[{\"marker\":{\"colorbar\":{\"outlinewidth\":0,\"ticks\":\"\"}},\"type\":\"scatterpolargl\"}],\"scatterternary\":[{\"marker\":{\"colorbar\":{\"outlinewidth\":0,\"ticks\":\"\"}},\"type\":\"scatterternary\"}],\"surface\":[{\"colorbar\":{\"outlinewidth\":0,\"ticks\":\"\"},\"colorscale\":[[0.0,\"#0d0887\"],[0.1111111111111111,\"#46039f\"],[0.2222222222222222,\"#7201a8\"],[0.3333333333333333,\"#9c179e\"],[0.4444444444444444,\"#bd3786\"],[0.5555555555555556,\"#d8576b\"],[0.6666666666666666,\"#ed7953\"],[0.7777777777777778,\"#fb9f3a\"],[0.8888888888888888,\"#fdca26\"],[1.0,\"#f0f921\"]],\"type\":\"surface\"}],\"table\":[{\"cells\":{\"fill\":{\"color\":\"#EBF0F8\"},\"line\":{\"color\":\"white\"}},\"header\":{\"fill\":{\"color\":\"#C8D4E3\"},\"line\":{\"color\":\"white\"}},\"type\":\"table\"}]},\"layout\":{\"annotationdefaults\":{\"arrowcolor\":\"#2a3f5f\",\"arrowhead\":0,\"arrowwidth\":1},\"autotypenumbers\":\"strict\",\"coloraxis\":{\"colorbar\":{\"outlinewidth\":0,\"ticks\":\"\"}},\"colorscale\":{\"diverging\":[[0,\"#8e0152\"],[0.1,\"#c51b7d\"],[0.2,\"#de77ae\"],[0.3,\"#f1b6da\"],[0.4,\"#fde0ef\"],[0.5,\"#f7f7f7\"],[0.6,\"#e6f5d0\"],[0.7,\"#b8e186\"],[0.8,\"#7fbc41\"],[0.9,\"#4d9221\"],[1,\"#276419\"]],\"sequential\":[[0.0,\"#0d0887\"],[0.1111111111111111,\"#46039f\"],[0.2222222222222222,\"#7201a8\"],[0.3333333333333333,\"#9c179e\"],[0.4444444444444444,\"#bd3786\"],[0.5555555555555556,\"#d8576b\"],[0.6666666666666666,\"#ed7953\"],[0.7777777777777778,\"#fb9f3a\"],[0.8888888888888888,\"#fdca26\"],[1.0,\"#f0f921\"]],\"sequentialminus\":[[0.0,\"#0d0887\"],[0.1111111111111111,\"#46039f\"],[0.2222222222222222,\"#7201a8\"],[0.3333333333333333,\"#9c179e\"],[0.4444444444444444,\"#bd3786\"],[0.5555555555555556,\"#d8576b\"],[0.6666666666666666,\"#ed7953\"],[0.7777777777777778,\"#fb9f3a\"],[0.8888888888888888,\"#fdca26\"],[1.0,\"#f0f921\"]]},\"colorway\":[\"#636efa\",\"#EF553B\",\"#00cc96\",\"#ab63fa\",\"#FFA15A\",\"#19d3f3\",\"#FF6692\",\"#B6E880\",\"#FF97FF\",\"#FECB52\"],\"font\":{\"color\":\"#2a3f5f\"},\"geo\":{\"bgcolor\":\"white\",\"lakecolor\":\"white\",\"landcolor\":\"#E5ECF6\",\"showlakes\":true,\"showland\":true,\"subunitcolor\":\"white\"},\"hoverlabel\":{\"align\":\"left\"},\"hovermode\":\"closest\",\"mapbox\":{\"style\":\"light\"},\"paper_bgcolor\":\"white\",\"plot_bgcolor\":\"#E5ECF6\",\"polar\":{\"angularaxis\":{\"gridcolor\":\"white\",\"linecolor\":\"white\",\"ticks\":\"\"},\"bgcolor\":\"#E5ECF6\",\"radialaxis\":{\"gridcolor\":\"white\",\"linecolor\":\"white\",\"ticks\":\"\"}},\"scene\":{\"xaxis\":{\"backgroundcolor\":\"#E5ECF6\",\"gridcolor\":\"white\",\"gridwidth\":2,\"linecolor\":\"white\",\"showbackground\":true,\"ticks\":\"\",\"zerolinecolor\":\"white\"},\"yaxis\":{\"backgroundcolor\":\"#E5ECF6\",\"gridcolor\":\"white\",\"gridwidth\":2,\"linecolor\":\"white\",\"showbackground\":true,\"ticks\":\"\",\"zerolinecolor\":\"white\"},\"zaxis\":{\"backgroundcolor\":\"#E5ECF6\",\"gridcolor\":\"white\",\"gridwidth\":2,\"linecolor\":\"white\",\"showbackground\":true,\"ticks\":\"\",\"zerolinecolor\":\"white\"}},\"shapedefaults\":{\"line\":{\"color\":\"#2a3f5f\"}},\"ternary\":{\"aaxis\":{\"gridcolor\":\"white\",\"linecolor\":\"white\",\"ticks\":\"\"},\"baxis\":{\"gridcolor\":\"white\",\"linecolor\":\"white\",\"ticks\":\"\"},\"bgcolor\":\"#E5ECF6\",\"caxis\":{\"gridcolor\":\"white\",\"linecolor\":\"white\",\"ticks\":\"\"}},\"title\":{\"x\":0.05},\"xaxis\":{\"automargin\":true,\"gridcolor\":\"white\",\"linecolor\":\"white\",\"ticks\":\"\",\"title\":{\"standoff\":15},\"zerolinecolor\":\"white\",\"zerolinewidth\":2},\"yaxis\":{\"automargin\":true,\"gridcolor\":\"white\",\"linecolor\":\"white\",\"ticks\":\"\",\"title\":{\"standoff\":15},\"zerolinecolor\":\"white\",\"zerolinewidth\":2}}},\"xaxis\":{\"anchor\":\"y\",\"domain\":[0.0,1.0],\"title\":{\"text\":\"x\"}},\"yaxis\":{\"anchor\":\"x\",\"domain\":[0.0,1.0],\"title\":{\"text\":\"y\"}},\"coloraxis\":{\"colorbar\":{\"title\":{\"text\":\"color\"}},\"colorscale\":[[0.0,\"#0d0887\"],[0.1111111111111111,\"#46039f\"],[0.2222222222222222,\"#7201a8\"],[0.3333333333333333,\"#9c179e\"],[0.4444444444444444,\"#bd3786\"],[0.5555555555555556,\"#d8576b\"],[0.6666666666666666,\"#ed7953\"],[0.7777777777777778,\"#fb9f3a\"],[0.8888888888888888,\"#fdca26\"],[1.0,\"#f0f921\"]]},\"legend\":{\"tracegroupgap\":0},\"title\":{\"text\":\"Types of Iris flower\"}},                        {\"responsive\": true}                    ).then(function(){\n",
              "                            \n",
              "var gd = document.getElementById('9217a874-c2be-4a79-87c3-e0708a26c7c6');\n",
              "var x = new MutationObserver(function (mutations, observer) {{\n",
              "        var display = window.getComputedStyle(gd).display;\n",
              "        if (!display || display === 'none') {{\n",
              "            console.log([gd, 'removed!']);\n",
              "            Plotly.purge(gd);\n",
              "            observer.disconnect();\n",
              "        }}\n",
              "}});\n",
              "\n",
              "// Listen for the removal of the full notebook cells\n",
              "var notebookContainer = gd.closest('#notebook-container');\n",
              "if (notebookContainer) {{\n",
              "    x.observe(notebookContainer, {childList: true});\n",
              "}}\n",
              "\n",
              "// Listen for the clearing of the current output cell\n",
              "var outputEl = gd.closest('.output');\n",
              "if (outputEl) {{\n",
              "    x.observe(outputEl, {childList: true});\n",
              "}}\n",
              "\n",
              "                        })                };                            </script>        </div>\n",
              "</body>\n",
              "</html>"
            ]
          },
          "metadata": {}
        }
      ],
      "source": [
        "from sklearn.svm import SVC\n",
        "from sklearn.model_selection import train_test_split as tts\n",
        "from sklearn.metrics import multilabel_confusion_matrix as mcm\n",
        "from sklearn import datasets\n",
        "import plotly.graph_objects as go\n",
        "import pandas as pd\n",
        "import plotly.express as px\n",
        "import numpy as np\n",
        "\n",
        "##Cargar base de datos\n",
        "df_iris = datasets.load_iris()\n",
        "X = df_iris.data \n",
        "y = df_iris.target \n",
        "print(np.shape(X))\n",
        "print(np.shape(y))\n",
        "print('*'*100)\n",
        "y = np.reshape(y,(150,1))\n",
        "print(np.shape(y))\n",
        "\n",
        "#Graph \n",
        "graph = px.scatter(x=X[:,0], y=X[:,1], color = np.reshape(y,(150,)), title=\"Types of Iris flower\")\n",
        "graph.update_traces(marker_size = 11)\n",
        "graph.show()"
      ]
    },
    {
      "cell_type": "markdown",
      "source": [
        "###1.   Modelo SVC\n",
        "\n",
        "\n"
      ],
      "metadata": {
        "id": "0j0K_UfRj8Aj"
      }
    },
    {
      "cell_type": "code",
      "source": [
        "##Separación de la base de datos\n",
        "xtrain,xtest,ytrain,ytest = tts(X,y,test_size =.30, random_state = 5)\n",
        "\n",
        "#Definir modelo\n",
        "svc_iris = SVC(gamma = 'scale')\n",
        "\n",
        "#Entrenar\n",
        "svc_iris.fit(xtrain,ytrain)\n",
        "\n",
        "#Predecir\n",
        "y_ptrain = svc_iris.predict(xtrain)\n",
        "y_ptest = svc_iris.predict(xtest)\n",
        "\n",
        "#Multilabel Confusion Matrix\n",
        "mcm_1 = mcm(ytest,y_ptest)\n",
        "print(mcm_1)\n",
        "\n",
        "#Graficar\n",
        "fig, ax = plt.subplots(1,2)\n",
        "ax[0].scatter(xtrain[:, 0], xtrain[:, 1], c=y_ptrain, cmap=plt.cm.coolwarm)\n",
        "ax[1].scatter(xtest[:, 0], xtest[:, 1], c=y_ptest, cmap=plt.cm.coolwarm)\n",
        "ax[0].set_title(\"Entrenamiento\")\n",
        "ax[1].set_title(\"Validación\")\n",
        "ax[0].grid()\n",
        "ax[1].grid()\n",
        "fig.show()\n",
        "\n",
        "\n",
        "#Ejemplo\n",
        "Sepal_Length = float(input(\"Ingresa el valor de tu Sepal Length: \"))\n",
        "Sepal_Width = float(input(\"Ingresa el valor de tu Sepal Length: \"))\n",
        "Petal_Length = float(input(\"Ingresa el valor de tu Petal Length: \"))\n",
        "Petal_Width = float(input(\"Ingresa el valor de tu Petal Width: \"))\n",
        "\n",
        "rpta = svc_iris.predict([[Sepal_Length, Sepal_Width, Petal_Length, Petal_Width]])\n",
        "print(\"Tu rpta. es:\", rpta)"
      ],
      "metadata": {
        "colab": {
          "base_uri": "https://localhost:8080/",
          "height": 576
        },
        "id": "_K5Y6S23jvep",
        "outputId": "324c83f5-bef1-4d82-f06c-a9ca99537a18"
      },
      "execution_count": 129,
      "outputs": [
        {
          "output_type": "stream",
          "name": "stderr",
          "text": [
            "/usr/local/lib/python3.7/dist-packages/sklearn/utils/validation.py:993: DataConversionWarning:\n",
            "\n",
            "A column-vector y was passed when a 1d array was expected. Please change the shape of y to (n_samples, ), for example using ravel().\n",
            "\n"
          ]
        },
        {
          "output_type": "stream",
          "name": "stdout",
          "text": [
            "[[[30  0]\n",
            "  [ 0 15]]\n",
            "\n",
            " [[29  0]\n",
            "  [ 1 15]]\n",
            "\n",
            " [[30  1]\n",
            "  [ 0 14]]]\n",
            "Ingresa el valor de tu Sepal Length: 2\n",
            "Ingresa el valor de tu Sepal Length: 2\n",
            "Ingresa el valor de tu Petal Length: 3\n",
            "Ingresa el valor de tu Petal Width: 2\n",
            "Tu rpta. es: [1]\n"
          ]
        },
        {
          "output_type": "display_data",
          "data": {
            "image/png": "[encoded data removed]",
            "text/plain": [
              "<Figure size 432x288 with 2 Axes>"
            ]
          },
          "metadata": {
            "needs_background": "light"
          }
        }
      ]
    },
    {
      "cell_type": "markdown",
      "source": [
        "###2. Modelo RF"
      ],
      "metadata": {
        "id": "5icWK1j9Eppd"
      }
    },
    {
      "cell_type": "code",
      "source": [
        "from sklearn.ensemble import RandomForestClassifier as rfc\n",
        "from sklearn.metrics import r2_score,mean_squared_error\n",
        "\n",
        "#Agrupación\n",
        "xtrain,xtest,ytrain,ytest = tts(X,y,random_state = 42, test_size = .25)\n",
        "\n",
        "#MODELACIÓN\n",
        "RF_iris = rfc(random_state=5)\n",
        "\n",
        "#ENTRENAMIENTO\n",
        "RF_iris.fit(xtrain,ytrain)\n",
        "\n",
        "#PREDICCIÓN\n",
        "y_ptest = RF_iris.predict(xtest)\n",
        "y_ptrain = RF_iris.predict(xtrain)\n",
        "\n",
        "#VALIDACIÓN\n",
        "mcm_2 = mcm(ytest,y_ptest)\n",
        "print(mcm_2)\n",
        "\n",
        "#Graficar\n",
        "plt.scatter(X[:, 0], X[:, 1], c=y, cmap=plt.cm.coolwarm)\n",
        "plt.grid()\n",
        "plt.show()\n",
        "\n",
        "#Ejemplo\n",
        "Sepal_Length = float(input(\"Ingresa el valor de tu Sepal Length:\"))\n",
        "Sepal_Width = float(input(\"Ingresa el valor de tu Sepal Length:\"))\n",
        "Petal_Length = float(input(\"Ingresa el valor de tu Petal Length: \"))\n",
        "Petal_Width = float(input(\"Ingresa el valor de tu Petal Width: \"))\n",
        "\n",
        "rpta = RF_iris.predict([[Sepal_Length, Sepal_Width, Petal_Length, Petal_Width]])\n",
        "print(\"Tu rpta. es:\", rpta)\n"
      ],
      "metadata": {
        "id": "pQfqW1sTnh7Q"
      },
      "execution_count": null,
      "outputs": []
    },
    {
      "cell_type": "code",
      "source": [
        "\"\"\"\n",
        "Evalúa 2 modelos: Uno con PCA y otro sin PCA para el modelo de clasificación del dataset melbournhouses\n",
        "\"\"\"\n",
        "from sklearn.svm import SVC\n",
        "from sklearn.model_selection import train_test_split as tts\n",
        "from sklearn.metrics import multilabel_confusion_matrix as mcm\n",
        "from sklearn.preprocessing import LabelEncoder as le\n",
        "from sklearn.preprocessing import StandardScaler\n",
        "from sklearn.preprocessing import Normalizer\n",
        "from pandas import get_dummies\n",
        "import pandas as pd\n",
        "import numpy as np\n",
        "\n",
        "df_melbourn = pd.read_csv(\"https://raw.githubusercontent.com/pedrorotta/PythonIntermedio2022/main/Examen/melbournehouses.csv\")\n",
        "df_melbourn.dropna(subset=['Car'], inplace=True)\n",
        "def norm_zero_one(df):\n",
        "    return (df - df.min()) * 1.0 / (df.max() - df.min())\n",
        "\n",
        "for m in ['Price','Landsize','Distance']:\n",
        "  df_melbourn[m] = norm_zero_one(df_melbourn[m])\n",
        "\n",
        "X = np.c_[df_melbourn['Price'],df_melbourn['Landsize'],df_melbourn['Distance']]\n",
        "\n",
        "for i in ['Type']:\n",
        "  globals()['dummies'+ str(i)] = pd.get_dummies(df_melbourn[i], prefix = i,dummy_na=False)\n",
        "\n",
        "for i in ['Rooms','Bathroom','Car']:\n",
        "  globals()['standar_' + str(i)] = df_melbourn[i]\n",
        "\n",
        "normal_data = np.c_[standar_Rooms,standar_Bathroom,standar_Car]\n",
        "normalizer1 = Normalizer()\n",
        "normalizer1.fit(normal_data)\n",
        "normal_data = normalizer1.transform(normal_data)\n",
        "\n",
        "X = np.c_[X,dummiesMethod,dummiesType,normal_data]\n",
        "print(np.shape(X))\n",
        "y = np.array(df_melbourn['Price'])\n",
        "print(np.shape(y))"
      ],
      "metadata": {
        "colab": {
          "base_uri": "https://localhost:8080/"
        },
        "id": "-6oRnufgeMaT",
        "outputId": "7eb649bd-6ed8-4468-cf86-768360ed9db4"
      },
      "execution_count": 77,
      "outputs": [
        {
          "output_type": "stream",
          "name": "stdout",
          "text": [
            "(13518, 14)\n",
            "(13518,)\n"
          ]
        }
      ]
    },
    {
      "cell_type": "markdown",
      "source": [
        "###Con PCA"
      ],
      "metadata": {
        "id": "7GO0ekBMkXh4"
      }
    },
    {
      "cell_type": "code",
      "source": [
        "from sklearn.decomposition import PCA\n",
        "#Componentes principales.\n",
        "pca = PCA(n_components=2)\n",
        "\n",
        "#Matriz de autovectores\n",
        "pca.fit(X)\n",
        "Xpca = pca.transform(X)\n",
        "\n",
        "#Reducción DIFERENCIAR los PCAs\n",
        "print(X[0,:])\n",
        "print('*'*100)\n",
        "print(Xpca[0,:])\n",
        "\n",
        "#Gráfica\n",
        "plt.scatter(x = Xpca[:,0], y = Xpca[:,1])\n",
        "plt.show()"
      ],
      "metadata": {
        "colab": {
          "base_uri": "https://localhost:8080/",
          "height": 369
        },
        "id": "A238rzf3kcIN",
        "outputId": "46b5c054-1044-41c5-df02-b9764a268cc7"
      },
      "execution_count": 78,
      "outputs": [
        {
          "output_type": "stream",
          "name": "stdout",
          "text": [
            "[1.56477846e-01 4.66497619e-04 5.19750520e-02 0.00000000e+00\n",
            " 1.00000000e+00 0.00000000e+00 0.00000000e+00 0.00000000e+00\n",
            " 1.00000000e+00 0.00000000e+00 0.00000000e+00 8.16496581e-01\n",
            " 4.08248290e-01 4.08248290e-01]\n",
            "****************************************************************************************************\n",
            "[-0.49174112 -0.21915878]\n"
          ]
        },
        {
          "output_type": "display_data",
          "data": {
            "image/png": "[encoded data removed]",
            "text/plain": [
              "<Figure size 432x288 with 1 Axes>"
            ]
          },
          "metadata": {
            "needs_background": "light"
          }
        }
      ]
    },
    {
      "cell_type": "code",
      "source": [
        "from sklearn.cluster import KMeans\n",
        "import matplotlib.pyplot as plt\n",
        "##K-means\n",
        "list_inercia =[]\n",
        "for i in range(1,11):\n",
        "  k_means = KMeans(n_clusters=i) \n",
        "  k_means.fit(X)\n",
        "  list_inercia.append(k_means.inertia_)\n",
        "\n",
        "plt.plot(range(1,11),list_inercia)\n",
        "plt.show()\n",
        "\n",
        "## K = 4\n",
        "k_means = KMeans(n_clusters=4)\n",
        "k_means.fit(X)\n",
        "labels = k_means.labels_"
      ],
      "metadata": {
        "colab": {
          "base_uri": "https://localhost:8080/",
          "height": 265
        },
        "id": "5wu2e6c8ixpU",
        "outputId": "b120ebf9-8998-4833-f61f-2ab6442144b4"
      },
      "execution_count": 79,
      "outputs": [
        {
          "output_type": "display_data",
          "data": {
            "image/png": "[encoded data removed]",
            "text/plain": [
              "<Figure size 432x288 with 1 Axes>"
            ]
          },
          "metadata": {
            "needs_background": "light"
          }
        }
      ]
    },
    {
      "cell_type": "code",
      "source": [
        "plt.scatter(Xpca[:,0],Xpca[:,1], c = labels)\n",
        "plt.show()"
      ],
      "metadata": {
        "colab": {
          "base_uri": "https://localhost:8080/",
          "height": 265
        },
        "id": "Z9Z987rLiv6H",
        "outputId": "087975a0-d100-499c-8e4b-0250d8ea5a9a"
      },
      "execution_count": 80,
      "outputs": [
        {
          "output_type": "display_data",
          "data": {
            "image/png": "[encoded data removed]",
            "text/plain": [
              "<Figure size 432x288 with 1 Axes>"
            ]
          },
          "metadata": {
            "needs_background": "light"
          }
        }
      ]
    },
    {
      "cell_type": "markdown",
      "source": [
        "###Sin PCA"
      ],
      "metadata": {
        "id": "IQiGFnUPyOtz"
      }
    },
    {
      "cell_type": "code",
      "source": [
        "from sklearn.neighbors import KNeighborsClassifier as knn\n",
        "from sklearn.model_selection import train_test_split as tts\n",
        "\n",
        "y =np.reshape(y,(len(y),1))\n",
        "\n",
        "#Separación\n",
        "xtrain,xtest,ytrain,ytest = tts(X,y,test_size =.30, random_state = 42)\n",
        "\n",
        "#Modelación y Entrenamiento \n",
        "knn_noPCA = knn(n_neighbors=5)\n",
        "knn_noPCA.fit(xtrain,ytrain)\n",
        "\n",
        "#PREDICCIÓN\n",
        "y_ptest = knn_noPCA.predict(xtest)\n",
        "y_ptrain = knn_noPCA.predict(xtrain)\n",
        "\n",
        "#VALIDACIÓN\n",
        "mcm_2 = mcm(ytest,y_ptest)\n",
        "print(mcm_2)\n",
        "\n",
        "#Gráfico\n",
        "fig, ax = plt.subplots(1,2)\n",
        "ax[0].scatter(xtrain[:, 0], xtrain[:, 1], c=y_ptrain, cmap=plt.cm.coolwarm)\n",
        "ax[1].scatter(xtest[:, 0], xtest[:, 1], c=y_ptest, cmap=plt.cm.coolwarm)\n",
        "ax[0].set_title(\"Entrenamiento\")\n",
        "ax[1].set_title(\"Validación\")\n",
        "ax[0].grid()\n",
        "ax[1].grid()\n",
        "fig.show()\n"
      ],
      "metadata": {
        "colab": {
          "base_uri": "https://localhost:8080/",
          "height": 489
        },
        "id": "WX3a9n4oyRdn",
        "outputId": "f5f6acae-0cba-459c-ba4f-eaf5400a16f5"
      },
      "execution_count": 124,
      "outputs": [
        {
          "output_type": "stream",
          "name": "stderr",
          "text": [
            "/usr/local/lib/python3.7/dist-packages/sklearn/neighbors/_classification.py:198: DataConversionWarning:\n",
            "\n",
            "A column-vector y was passed when a 1d array was expected. Please change the shape of y to (n_samples,), for example using ravel().\n",
            "\n"
          ]
        },
        {
          "output_type": "stream",
          "name": "stdout",
          "text": [
            "[[[26  0]\n",
            "  [ 0 19]]\n",
            "\n",
            " [[32  0]\n",
            "  [ 0 13]]\n",
            "\n",
            " [[32  0]\n",
            "  [ 0 13]]]\n"
          ]
        },
        {
          "output_type": "display_data",
          "data": {
            "image/png": "[encoded data removed]",
            "text/plain": [
              "<Figure size 432x288 with 2 Axes>"
            ]
          },
          "metadata": {
            "needs_background": "light"
          }
        }
      ]
    },
    {
      "cell_type": "code",
      "source": [
        "\"\"\"\n",
        "¿Existe sobreajuste al aplicar un modelo de RF con n = 200 para el modelo de wine.csv? \n",
        "\"\"\"\n",
        "from sklearn.model_selection import train_test_split as tts\n",
        "from sklearn.metrics import multilabel_confusion_matrix as mcm\n",
        "from sklearn.ensemble import RandomForestRegressor as rfr\n",
        "from sklearn.metrics import r2_score,mean_squared_error\n",
        "from sklearn.preprocessing import LabelEncoder\n",
        "from sklearn.preprocessing import Normalizer\n",
        "from pandas import notna\n",
        "import pandas as pd\n",
        "import numpy as np\n",
        "\n",
        "##Cargar base de datos\n",
        "df_wine = pd.read_excel('/content/drive/MyDrive/Python/wine.xlsx')\n",
        "display(df_wine.tail())\n",
        "df_wine.dropna(subset=[\"price\"], inplace=True)\n",
        "\n",
        "labelencoder = LabelEncoder()\n",
        "for i in ['country','province','variety']:\n",
        "  df_wine.dropna(subset=[i], inplace=True)\n",
        "  df_wine[i] = labelencoder.fit_transform(df_wine[i])\n",
        "\n",
        "X = df_wine[['country','points','province','variety']]\n",
        "print(X)\n",
        "y = df_wine['price']\n",
        "\n",
        "def norm_zero_one(df):\n",
        "    return (df - df.min()) * 1.0 / (df.max() - df.min())\n",
        "\n",
        "for i in ['country','points','province','variety']:\n",
        "  X[i] = norm_zero_one(X[i])\n",
        "\n",
        "#Agrupación\n",
        "xtrain,xtest,ytrain,ytest = tts(X,y, test_size = .25)\n",
        "\n",
        "#MODELACIÓN\n",
        "RF_200 = rfr(n_estimators=200)\n",
        "\n",
        "#ENTRENAMIENTO\n",
        "RF_200.fit(xtrain,ytrain)\n",
        "\n",
        "#PREDICCION\n",
        "y_ptest = RF_200.predict(xtest)\n",
        "y_ptrain = RF_200.predict(xtrain)\n",
        "\n",
        "#VALIDACIÓN\n",
        "r2_test =r2_score(ytest,y_ptest) \n",
        "r2_train = r2_score(ytrain, y_ptrain)\n",
        "print(r2_train,r2_test)\n",
        "\n",
        "#SUBAJUSTE O SOBREAJUSTE \n",
        "if r2_test < .5:\n",
        "  print(\"Conclusión: Existe Subajuste en el modelo\")\n",
        "elif r2_train > r2_test:\n",
        "  print(r2_train - r2_test)\n",
        "  print(\"Conclusión: Existe Sobreajuste en el modelo\")\n",
        "elif r2_train <= r2_test and r2_train > .5 and r2_test > .5:\n",
        "  print(\"Conclusión: El modelo está eficientemente ajustado\")"
      ],
      "metadata": {
        "colab": {
          "base_uri": "https://localhost:8080/",
          "height": 771
        },
        "id": "TOfuYuMYeaVM",
        "outputId": "94d62a0f-db76-445d-ae46-681d27ef0c87"
      },
      "execution_count": 293,
      "outputs": [
        {
          "output_type": "display_data",
          "data": {
            "text/html": [
              "\n",
              "  <div id=\"df-6682bde7-fee3-4f79-92fb-c6d96ac859f8\">\n",
              "    <div class=\"colab-df-container\">\n",
              "      <div>\n",
              "<style scoped>\n",
              "    .dataframe tbody tr th:only-of-type {\n",
              "        vertical-align: middle;\n",
              "    }\n",
              "\n",
              "    .dataframe tbody tr th {\n",
              "        vertical-align: top;\n",
              "    }\n",
              "\n",
              "    .dataframe thead th {\n",
              "        text-align: right;\n",
              "    }\n",
              "</style>\n",
              "<table border=\"1\" class=\"dataframe\">\n",
              "  <thead>\n",
              "    <tr style=\"text-align: right;\">\n",
              "      <th></th>\n",
              "      <th>Unnamed: 0</th>\n",
              "      <th>country</th>\n",
              "      <th>description</th>\n",
              "      <th>designation</th>\n",
              "      <th>points</th>\n",
              "      <th>price</th>\n",
              "      <th>province</th>\n",
              "      <th>region_1</th>\n",
              "      <th>region_2</th>\n",
              "      <th>variety</th>\n",
              "      <th>winery</th>\n",
              "    </tr>\n",
              "  </thead>\n",
              "  <tbody>\n",
              "    <tr>\n",
              "      <th>150925</th>\n",
              "      <td>150925</td>\n",
              "      <td>Italy</td>\n",
              "      <td>Many people feel Fiano represents southern Ita...</td>\n",
              "      <td>NaN</td>\n",
              "      <td>91</td>\n",
              "      <td>20.0</td>\n",
              "      <td>Southern Italy</td>\n",
              "      <td>Fiano di Avellino</td>\n",
              "      <td>NaN</td>\n",
              "      <td>White Blend</td>\n",
              "      <td>Feudi di San Gregorio</td>\n",
              "    </tr>\n",
              "    <tr>\n",
              "      <th>150926</th>\n",
              "      <td>150926</td>\n",
              "      <td>France</td>\n",
              "      <td>Offers an intriguing nose with ginger, lime an...</td>\n",
              "      <td>Cuvée Prestige</td>\n",
              "      <td>91</td>\n",
              "      <td>27.0</td>\n",
              "      <td>Champagne</td>\n",
              "      <td>Champagne</td>\n",
              "      <td>NaN</td>\n",
              "      <td>Champagne Blend</td>\n",
              "      <td>H.Germain</td>\n",
              "    </tr>\n",
              "    <tr>\n",
              "      <th>150927</th>\n",
              "      <td>150927</td>\n",
              "      <td>Italy</td>\n",
              "      <td>This classic example comes from a cru vineyard...</td>\n",
              "      <td>Terre di Dora</td>\n",
              "      <td>91</td>\n",
              "      <td>20.0</td>\n",
              "      <td>Southern Italy</td>\n",
              "      <td>Fiano di Avellino</td>\n",
              "      <td>NaN</td>\n",
              "      <td>White Blend</td>\n",
              "      <td>Terredora</td>\n",
              "    </tr>\n",
              "    <tr>\n",
              "      <th>150928</th>\n",
              "      <td>150928</td>\n",
              "      <td>France</td>\n",
              "      <td>A perfect salmon shade, with scents of peaches...</td>\n",
              "      <td>Grand Brut Rosé</td>\n",
              "      <td>90</td>\n",
              "      <td>52.0</td>\n",
              "      <td>Champagne</td>\n",
              "      <td>Champagne</td>\n",
              "      <td>NaN</td>\n",
              "      <td>Champagne Blend</td>\n",
              "      <td>Gosset</td>\n",
              "    </tr>\n",
              "    <tr>\n",
              "      <th>150929</th>\n",
              "      <td>150929</td>\n",
              "      <td>Italy</td>\n",
              "      <td>More Pinot Grigios should taste like this. A r...</td>\n",
              "      <td>NaN</td>\n",
              "      <td>90</td>\n",
              "      <td>15.0</td>\n",
              "      <td>Northeastern Italy</td>\n",
              "      <td>Alto Adige</td>\n",
              "      <td>NaN</td>\n",
              "      <td>Pinot Grigio</td>\n",
              "      <td>Alois Lageder</td>\n",
              "    </tr>\n",
              "  </tbody>\n",
              "</table>\n",
              "</div>\n",
              "      <button class=\"colab-df-convert\" onclick=\"convertToInteractive('df-6682bde7-fee3-4f79-92fb-c6d96ac859f8')\"\n",
              "              title=\"Convert this dataframe to an interactive table.\"\n",
              "              style=\"display:none;\">\n",
              "        \n",
              "  <svg xmlns=\"http://www.w3.org/2000/svg\" height=\"24px\"viewBox=\"0 0 24 24\"\n",
              "       width=\"24px\">\n",
              "    <path d=\"M0 0h24v24H0V0z\" fill=\"none\"/>\n",
              "    <path d=\"M18.56 5.44l.94 2.06.94-2.06 2.06-.94-2.06-.94-.94-2.06-.94 2.06-2.06.94zm-11 1L8.5 8.5l.94-2.06 2.06-.94-2.06-.94L8.5 2.5l-.94 2.06-2.06.94zm10 10l.94 2.06.94-2.06 2.06-.94-2.06-.94-.94-2.06-.94 2.06-2.06.94z\"/><path d=\"M17.41 7.96l-1.37-1.37c-.4-.4-.92-.59-1.43-.59-.52 0-1.04.2-1.43.59L10.3 9.45l-7.72 7.72c-.78.78-.78 2.05 0 2.83L4 21.41c.39.39.9.59 1.41.59.51 0 1.02-.2 1.41-.59l7.78-7.78 2.81-2.81c.8-.78.8-2.07 0-2.86zM5.41 20L4 18.59l7.72-7.72 1.47 1.35L5.41 20z\"/>\n",
              "  </svg>\n",
              "      </button>\n",
              "      \n",
              "  <style>\n",
              "    .colab-df-container {\n",
              "      display:flex;\n",
              "      flex-wrap:wrap;\n",
              "      gap: 12px;\n",
              "    }\n",
              "\n",
              "    .colab-df-convert {\n",
              "      background-color: #E8F0FE;\n",
              "      border: none;\n",
              "      border-radius: 50%;\n",
              "      cursor: pointer;\n",
              "      display: none;\n",
              "      fill: #1967D2;\n",
              "      height: 32px;\n",
              "      padding: 0 0 0 0;\n",
              "      width: 32px;\n",
              "    }\n",
              "\n",
              "    .colab-df-convert:hover {\n",
              "      background-color: #E2EBFA;\n",
              "      box-shadow: 0px 1px 2px rgba(60, 64, 67, 0.3), 0px 1px 3px 1px rgba(60, 64, 67, 0.15);\n",
              "      fill: #174EA6;\n",
              "    }\n",
              "\n",
              "    [theme=dark] .colab-df-convert {\n",
              "      background-color: #3B4455;\n",
              "      fill: #D2E3FC;\n",
              "    }\n",
              "\n",
              "    [theme=dark] .colab-df-convert:hover {\n",
              "      background-color: #434B5C;\n",
              "      box-shadow: 0px 1px 3px 1px rgba(0, 0, 0, 0.15);\n",
              "      filter: drop-shadow(0px 1px 2px rgba(0, 0, 0, 0.3));\n",
              "      fill: #FFFFFF;\n",
              "    }\n",
              "  </style>\n",
              "\n",
              "      <script>\n",
              "        const buttonEl =\n",
              "          document.querySelector('#df-6682bde7-fee3-4f79-92fb-c6d96ac859f8 button.colab-df-convert');\n",
              "        buttonEl.style.display =\n",
              "          google.colab.kernel.accessAllowed ? 'block' : 'none';\n",
              "\n",
              "        async function convertToInteractive(key) {\n",
              "          const element = document.querySelector('#df-6682bde7-fee3-4f79-92fb-c6d96ac859f8');\n",
              "          const dataTable =\n",
              "            await google.colab.kernel.invokeFunction('convertToInteractive',\n",
              "                                                     [key], {});\n",
              "          if (!dataTable) return;\n",
              "\n",
              "          const docLinkHtml = 'Like what you see? Visit the ' +\n",
              "            '<a target=\"_blank\" href=https://colab.research.google.com/notebooks/data_table.ipynb>data table notebook</a>'\n",
              "            + ' to learn more about interactive tables.';\n",
              "          element.innerHTML = '';\n",
              "          dataTable['output_type'] = 'display_data';\n",
              "          await google.colab.output.renderOutput(dataTable, element);\n",
              "          const docLink = document.createElement('div');\n",
              "          docLink.innerHTML = docLinkHtml;\n",
              "          element.appendChild(docLink);\n",
              "        }\n",
              "      </script>\n",
              "    </div>\n",
              "  </div>\n",
              "  "
            ],
            "text/plain": [
              "        Unnamed: 0 country  ...          variety                 winery\n",
              "150925      150925   Italy  ...      White Blend  Feudi di San Gregorio\n",
              "150926      150926  France  ...  Champagne Blend              H.Germain\n",
              "150927      150927   Italy  ...      White Blend              Terredora\n",
              "150928      150928  France  ...  Champagne Blend                 Gosset\n",
              "150929      150929   Italy  ...     Pinot Grigio          Alois Lageder\n",
              "\n",
              "[5 rows x 11 columns]"
            ]
          },
          "metadata": {}
        },
        {
          "output_type": "stream",
          "name": "stdout",
          "text": [
            "        country  points  province  variety\n",
            "0            42      96        51       69\n",
            "1            39      96       273      541\n",
            "2            42      96        51      458\n",
            "3            42      96       281      394\n",
            "4            14      95       312      414\n",
            "...         ...     ...       ...      ...\n",
            "150925       21      91       358      604\n",
            "150926       14      91        72      105\n",
            "150927       21      91       358      604\n",
            "150928       14      90        72      105\n",
            "150929       21      90       271      388\n",
            "\n",
            "[137230 rows x 4 columns]\n"
          ]
        },
        {
          "output_type": "stream",
          "name": "stderr",
          "text": [
            "/usr/local/lib/python3.7/dist-packages/ipykernel_launcher.py:32: SettingWithCopyWarning:\n",
            "\n",
            "\n",
            "A value is trying to be set on a copy of a slice from a DataFrame.\n",
            "Try using .loc[row_indexer,col_indexer] = value instead\n",
            "\n",
            "See the caveats in the documentation: https://pandas.pydata.org/pandas-docs/stable/user_guide/indexing.html#returning-a-view-versus-a-copy\n",
            "\n"
          ]
        },
        {
          "output_type": "stream",
          "name": "stdout",
          "text": [
            "0.6298659799197373 0.379339720184354\n",
            "Conclusión: Existe Subajuste en el modelo\n"
          ]
        }
      ]
    },
    {
      "cell_type": "code",
      "source": [
        "\"\"\"\n",
        "Puedes graficar un modelo de deep learning para la dataset de breast-cancer\n",
        "\"\"\"\n"
      ],
      "metadata": {
        "id": "fNPyBdnnej01"
      },
      "execution_count": null,
      "outputs": []
    },
    {
      "cell_type": "code",
      "source": [
        "\"\"\"\n",
        "Crea una función que aplane la ruta de una imágen\n",
        "\"\"\"\n",
        "import matplotlib.pyplot as plt\n",
        "import numpy as np\n",
        "def aplanar_img():\n",
        "  ruta = input(\"Ingrese la ruta de la imagen: \")\n",
        "  img = plt.imread(ruta)\n",
        "  print(np.shape(img))\n",
        "  print('*'*100)\n",
        "  img_flat = img.flatten()\n",
        "  print(np.shape(img_flat))\n"
      ],
      "metadata": {
        "id": "LNndw4yBesID"
      },
      "execution_count": null,
      "outputs": []
    }
  ]
}